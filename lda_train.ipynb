{
 "cells": [
  {
   "cell_type": "code",
   "execution_count": 1,
   "id": "initial_id",
   "metadata": {
    "collapsed": true,
    "ExecuteTime": {
     "end_time": "2025-04-12T08:05:10.671623Z",
     "start_time": "2025-04-12T08:05:10.660327Z"
    }
   },
   "outputs": [
    {
     "name": "stdout",
     "output_type": "stream",
     "text": [
      "['data/train/2025-04-11\\\\1-相亲闪婚后，老公竟是千亿财阀.txt', 'data/train/2025-04-11\\\\10-腹黑娇妻：厉少，人设崩坏中.txt', 'data/train/2025-04-11\\\\100 小夫人一身反骨，大叔乖乖臣服.txt', 'data/train/2025-04-11\\\\101 墨爷的闪婚小甜妻.txt', 'data/train/2025-04-11\\\\102 流年不负你情深.txt', 'data/train/2025-04-11\\\\13-帝少甜婚令：娇妻，乖一点.txt', 'data/train/2025-04-11\\\\14-闪婚厚爱：病娇老公竟是千亿大佬.txt', 'data/train/2025-04-11\\\\17-闪婚三年不见面，再遇我是他秘书.txt', 'data/train/2025-04-11\\\\一夜惊喜：超级总裁喜当爹.txt', 'data/train/2025-04-11\\\\一胎六宝：总裁爸比超凶猛.txt', 'data/train/2025-04-11\\\\一胎双宝：季总你出局了.txt', 'data/train/2025-04-11\\\\一顾很倾情(www.sxcnw.org).txt', 'data/train/2025-04-11\\\\七年之痒，前夫不知道我重生了.txt', 'data/train/2025-04-11\\\\七爷的罪妻.txt', 'data/train/2025-04-11\\\\三宝联萌 大佬妈咪拽又飒.txt', 'data/train/2025-04-11\\\\三宝联萌：大佬妈咪拽又飒.txt', 'data/train/2025-04-11\\\\三年恋情曝光，我成了白月光的替身.txt', 'data/train/2025-04-11\\\\上善若玉(www.sxcnw.org).txt', 'data/train/2025-04-11\\\\不受宠？无所谓，杀疯豪门万人跪 (1~20章)-总裁、多重身份、傲慢霸气、复仇、男-有魅力的角色、浪漫、甜蜜、言情、大女主、甜宠.txt', 'data/train/2025-04-11\\\\不当舔狗后，肥妻她美又飒！ (1~20章)-多重身份、离婚、豪门霸总、真假千金、追妻火葬场、破镜重圆、甜宠、打脸.txt', 'data/train/2025-04-11\\\\乔秘书离职结婚，陆总醋疯了.txt', 'data/train/2025-04-11\\\\九零团宠三岁半.txt', 'data/train/2025-04-11\\\\二婚甜妻：祁少，正经点！.txt', 'data/train/2025-04-11\\\\二嫁纨绔：嫡长女她杀疯了 (1~20章)-复仇、重生、傲慢霸气、男-腹黑角色.txt', 'data/train/2025-04-11\\\\五十再嫁，我提离婚他疯了.txt', 'data/train/2025-04-11\\\\今夜离婚，我转身二嫁顶级大佬.txt', 'data/train/2025-04-11\\\\你是我唯一的甜.txt', 'data/train/2025-04-11\\\\傅总，太太又在给你征婚了 (1~20章)-总裁、契约婚姻、怀孕、秘书、秘密关系.txt', 'data/train/2025-04-11\\\\傅爷快掉马，夫人嫁的是你啊！.txt', 'data/train/2025-04-11\\\\傅爷的小妖精又美又野.txt', 'data/train/2025-04-11\\\\先婚厚爱：帝少宠妻成瘾.txt', 'data/train/2025-04-11\\\\冷情总裁的退婚新娘.txt', 'data/train/2025-04-11\\\\冷战两年，她离婚他发疯.txt', 'data/train/2025-04-11\\\\出狱后我闪婚冰山女总裁.txt', 'data/train/2025-04-11\\\\分手后，禁欲厉总拿命轻哄！ (1~20章)-裁、复仇、男-腹黑角色.txt', 'data/train/2025-04-11\\\\前妻可口：顾少离婚请签字\\xa0.txt', 'data/train/2025-04-11\\\\前妻难追：战少请自重！ (1~20章)-总裁、离婚、契约婚姻.txt', 'data/train/2025-04-11\\\\厉总快追，太太前夫又找上门了！ (1~20章)-总裁、离婚、男-有魅力的角色、一夜情、名流、言情、豪门霸总.txt', 'data/train/2025-04-11\\\\厉总，夫人她不是白月光替身 (1~20章)-总裁、离婚、怀孕、一见钟情、多重身份.txt', 'data/train/2025-04-11\\\\名门娇妻：老婆又野又美.txt', 'data/train/2025-04-11\\\\团宠大佬是作者本人.txt', 'data/train/2025-04-11\\\\团宠娇妻：残疾大佬暗恋我.txt', 'data/train/2025-04-11\\\\大佬你的小娇娇甜翻了.txt', 'data/train/2025-04-11\\\\大叔离婚请放手.txt', 'data/train/2025-04-11\\\\大叔，你家小祖宗携宝潜逃了！.txt', 'data/train/2025-04-11\\\\天价哑妻：夫人带球跑了！ (1~20章)-总裁、离婚、怀孕.txt', 'data/train/2025-04-11\\\\天才狂少的男妻.txt', 'data/train/2025-04-11\\\\夫人她又在虐渣了.txt', 'data/train/2025-04-11\\\\夫人她拿了霸总剧本.txt', 'data/train/2025-04-11\\\\失忆成了薄爷掌心娇，豪横一点怎么了？.txt', 'data/train/2025-04-11\\\\她每天装乖.txt', 'data/train/2025-04-11\\\\妻路盛宠.txt', 'data/train/2025-04-11\\\\姜秘书甩离婚书，霍总红眼失控.txt', 'data/train/2025-04-11\\\\娇妻难哄：荣少，今天离婚吗 (1~20章)-总裁、离婚、一夜情、名流.txt', 'data/train/2025-04-11\\\\婚情漫漫，周律师他见不得光.txt', 'data/train/2025-04-11\\\\嫁给豪门老男人，小娇妻被宠疯了.txt', 'data/train/2025-04-11\\\\守八年活寡，侯门主母要和离.txt', 'data/train/2025-04-11\\\\小祖宗她又野又媚，病娇裴总日日哄 (1~20章)-总裁、离婚、重生、大女主、爽文.txt', 'data/train/2025-04-11\\\\巨星重生 阮少盛宠复仇妻.txt', 'data/train/2025-04-11\\\\年过五十被丈夫抛弃后，她转身嫁给云城首富.txt', 'data/train/2025-04-11\\\\微醺夜，她狂撩，京圈大佬红温了.txt', 'data/train/2025-04-11\\\\心动up！谭先生的偷心娇妻.txt', 'data/train/2025-04-11\\\\总裁不坏我不爱.txt', 'data/train/2025-04-11\\\\总裁偏宠替身妻.txt', 'data/train/2025-04-11\\\\总裁情深不浅.txt', 'data/train/2025-04-11\\\\恶魔霸爱：女人，别玩火.txt', 'data/train/2025-04-11\\\\惨死重生后，我为绝嗣大佬生三胎.txt', 'data/train/2025-04-11\\\\惹她？疯了！假千金她有千层马甲 (1~20章)-总裁、真假千金、爽文、多重身份、浪漫、大女主、学霸.txt', 'data/train/2025-04-11\\\\战少超护短，夫人率崽飒翻全球！.txt', 'data/train/2025-04-11\\\\报告厉少，夫人她携崽潜逃了.txt', 'data/train/2025-04-11\\\\掌上欢：战王盛宠小医妃 (1~20章)-傲慢霸气、复仇、男-腹黑角色.txt', 'data/train/2025-04-11\\\\搭上季爷后，她被宠翻了！ (1~20章)-总裁、契约婚姻、傲慢霸气、男-腹黑角色、甜蜜、多重身份、复仇、浪漫、男-有魅力的角色、一见钟情.txt', 'data/train/2025-04-11\\\\新婚夜，残疾大佬站起来了 (1~20章)-总裁、闪婚、契约婚姻、名流、多重身份、甜蜜、浪漫、背叛、三角恋.txt', 'data/train/2025-04-11\\\\早上离婚成富婆，晚上点一屋男模 (1~20章)-总裁、离婚、欲望情色、男-有魅力的角色、一夜情、医生 男、秘密关系、傲慢霸气、浪漫、都市生活.txt', 'data/train/2025-04-11\\\\星河灿烂皆因你.txt', 'data/train/2025-04-11\\\\暖婚急诊：商医生，来盖个章！.txt', 'data/train/2025-04-11\\\\替嫁丑妻：慕爷，乖乖宠！.txt', 'data/train/2025-04-11\\\\替嫁新娘：我老公是顶级大佬.txt', 'data/train/2025-04-11\\\\替嫁新娘：陆少的第一宠妻.txt', 'data/train/2025-04-11\\\\服软？绝不，假千金她是亿万大佬 (1~20章)-总裁、一见钟情、都市生活、男-腹黑角色、男-有魅力的角色.txt', 'data/train/2025-04-11\\\\梦里修仙千年，醒来我已无敌.txt', 'data/train/2025-04-11\\\\楼总，您的娇妻请签收.txt', 'data/train/2025-04-11\\\\死后才知，京圈太子爷在我坟前哭成狗.txt', 'data/train/2025-04-11\\\\活该！人家是满级大佬，你偏要找死 (1~20章)-总裁、多重身份、男-腹黑角色.txt', 'data/train/2025-04-11\\\\深藏温柔.txt', 'data/train/2025-04-11\\\\渣前夫，不孝子，我选痴心小狼狗.txt', 'data/train/2025-04-11\\\\爷！认输吧，夫人黑白两道皆马甲 (1~20章)-复仇、黑手党、杀手、言情、大女主、女王、真假千金、HE、甜宠、爽文.txt', 'data/train/2025-04-11\\\\甜宠蜜爱：老公限量宠.txt', 'data/train/2025-04-11\\\\申夫人每天都想跑路.txt', 'data/train/2025-04-11\\\\皇叔独宠小王妃 (1~20章)-重生、男-腹黑角色、男-有魅力的角色.txt', 'data/train/2025-04-11\\\\盛夜.txt', 'data/train/2025-04-11\\\\相亲当天，亿万大佬向我求婚了.txt', 'data/train/2025-04-11\\\\神秘老公宠妻上瘾.txt', 'data/train/2025-04-11\\\\禁止复婚！夫人她招了七个新欢.txt', 'data/train/2025-04-11\\\\禁止离婚！我怀了死对头的崽.txt', 'data/train/2025-04-11\\\\离婚100天：夫人请回家.txt', 'data/train/2025-04-11\\\\离婚后诈死，傅总拿着孕检单疯了.txt', 'data/train/2025-04-11\\\\离婚后，傅太太她马甲掉了一地 (1~20章)-总裁、多重身份、傲慢霸气.txt', 'data/train/2025-04-11\\\\离婚后，冷冰冰的前夫又苏又撩.txt', 'data/train/2025-04-11\\\\离婚后，她马甲遍全球 (1~20章)-总裁、多重身份、傲慢霸气、离婚、男-腹黑角色、男-有魅力的角色、一夜情、契约婚姻、名流、都市生活.txt', 'data/train/2025-04-11\\\\离婚后，姚小姐的马甲藏不住了 (1~20章)-总裁、追妻火葬场、甜宠、先婚后爱.txt', 'data/train/2025-04-11\\\\离婚后，总裁他跪地求复合 (1~20章)-总裁、离婚、背叛.txt', 'data/train/2025-04-11\\\\离婚后，总裁发现自己是替身.txt', 'data/train/2025-04-11\\\\离婚后，我成了闷骚总裁小甜心.txt', 'data/train/2025-04-11\\\\离婚后，我让前夫倾家荡产.txt', 'data/train/2025-04-11\\\\离婚后，陆小姐马甲又掉了 (1~20章)-总裁、多重身份、傲慢霸气、离婚、男-腹黑角色、男-有魅力的角色、浪漫、一见钟情.txt', 'data/train/2025-04-11\\\\离婚后，霍总夜夜跪地哄 (1~20章)-离婚、怀孕、青梅竹马、契约婚姻、总裁.txt', 'data/train/2025-04-11\\\\离职相亲后，发现我怀了前上司的崽 (1~20章)-总裁、欲望情色、一夜情.txt', 'data/train/2025-04-11\\\\秦先生他又宠又撩.txt', 'data/train/2025-04-11\\\\纠缠十年，我死后前夫才放手.txt', 'data/train/2025-04-11\\\\给战神将军冲喜后，她杀疯了 (1~20章)-古言、契约婚姻、甜蜜、男-有魅力的角色.txt', 'data/train/2025-04-11\\\\缘定你.txt', 'data/train/2025-04-11\\\\罪爱沉沦，陆少跪地轻哄 (1~20章)-总裁、离婚、都市生活、契约婚姻.txt', 'data/train/2025-04-11\\\\萌宝来袭：妈咪，请你投降.txt', 'data/train/2025-04-11\\\\薄先生，你要娶我吗.txt', 'data/train/2025-04-11\\\\虐死夫人后陆总他疯了.txt', 'data/train/2025-04-11\\\\被婆婆羞辱，四年后我带崽嫁入豪门.txt', 'data/train/2025-04-11\\\\被小叔抛弃后，我成了男科专家 (1~20章)-总裁、男-腹黑角色、年龄差.txt', 'data/train/2025-04-11\\\\被迫替嫁后，我成了首富夫人 (1~20章)-闪婚、一夜情、多重身份、总裁、男-腹黑角色.txt', 'data/train/2025-04-11\\\\被迫离婚，我捡走了霸总的崽.txt', 'data/train/2025-04-11\\\\裴总别傲娇了，夫人已经签了离婚协议 (1~20章)-总裁、离婚、多重身份、契约婚姻.txt', 'data/train/2025-04-11\\\\要命！她马甲满级，你惹她干嘛 (1~20章)-总裁、闪婚、甜蜜、男-腹黑角色、傲慢霸气、多重身份.txt', 'data/train/2025-04-11\\\\误入婚局，我一手送前夫入狱.txt', 'data/train/2025-04-11\\\\说好的不喜欢，小叔请自重.txt', 'data/train/2025-04-11\\\\财阀小娇妻：闪婚后，大叔他把持不住了.txt', 'data/train/2025-04-11\\\\这豪门我不待了.txt', 'data/train/2025-04-11\\\\逼她替嫁？福运全被真千金带走啦.txt', 'data/train/2025-04-11\\\\郁总，你老婆又被表白了.txt', 'data/train/2025-04-11\\\\醉夜撩，心狂跳，闪婚大佬宠娇娇.txt', 'data/train/2025-04-11\\\\重生之嫡长女帅炸了.txt', 'data/train/2025-04-11\\\\重生八零：团宠异能娇妻.txt', 'data/train/2025-04-11\\\\重生后我对大佬百般宠爱.txt', 'data/train/2025-04-11\\\\重生娇妻，夫人把四爷宠上天了.txt', 'data/train/2025-04-11\\\\闪婚三年被绿，我提离婚你跪什么.txt', 'data/train/2025-04-11\\\\闪婚后，渣老公每天想拿掉我的崽!.txt', 'data/train/2025-04-11\\\\闪婚独宠：陆少娇妻有点狂.txt', 'data/train/2025-04-11\\\\隐婚豪门继承者.txt', 'data/train/2025-04-11\\\\震惊！闪婚后嫁给了隐藏大佬.txt', 'data/train/2025-04-11\\\\霍少的下堂妻.txt', 'data/train/2025-04-11\\\\霍爷别虐了，夫人她不要你了 (1~20章)-总裁、傲慢霸气、都市生活、欲望情色、浪漫.txt', 'data/train/2025-04-11\\\\霍爷的小心肝她野翻了.txt', 'data/train/2025-04-11\\\\顾医生你节操掉了.txt', 'data/train/2025-04-11\\\\骗子！说好的禁欲总裁呢？.txt', 'data/train/2025-04-11\\\\高调闪婚陆少后，前任气的绝食了.txt', 'data/train/2025-04-11\\\\黑莲花反派系统.txt', 'data/train/2025-04-11\\\\龙凤双宝：爹地跪下唱征服.txt']\n"
     ]
    }
   ],
   "source": [
    "import os\n",
    "\n",
    "train_data_path = 'data/train/2025-04-11'\n",
    "skip_files = ['stopwords']\n",
    "\n",
    "def get_files(path: str) -> list:\n",
    "    entries = os.listdir(path)\n",
    "    return [os.path.join(path, entry) for entry in entries if os.path.isfile(os.path.join(path, entry))]\n",
    "\n",
    "train_file_paths = get_files(train_data_path)\n",
    "print(train_file_paths)"
   ]
  },
  {
   "cell_type": "code",
   "outputs": [
    {
     "name": "stdout",
     "output_type": "stream",
     "text": [
      "Decode Error  data/train/2025-04-11\\一顾很倾情(www.sxcnw.org).txt\n",
      "Decode Error  data/train/2025-04-11\\七爷的罪妻.txt\n",
      "Decode Error  data/train/2025-04-11\\三宝联萌 大佬妈咪拽又飒.txt\n",
      "Decode Error  data/train/2025-04-11\\上善若玉(www.sxcnw.org).txt\n",
      "Decode Error  data/train/2025-04-11\\冷情总裁的退婚新娘.txt\n",
      "Decode Error  data/train/2025-04-11\\大佬你的小娇娇甜翻了.txt\n",
      "Decode Error  data/train/2025-04-11\\天才狂少的男妻.txt\n",
      "Decode Error  data/train/2025-04-11\\星河灿烂皆因你.txt\n",
      "Decode Error  data/train/2025-04-11\\暖婚急诊：商医生，来盖个章！.txt\n",
      "('data/train/2025-04-11\\\\1-相亲闪婚后，老公竟是千亿财阀.txt', '\\n第1章 来闪婚还摆架子\\n书名： 相亲闪婚后，老公竟是千亿财阀 作者： 一板奶片 本章字数： 2164 更新时间： 2023-01-18 21:15:55\\n\\n“清溪，今天晚上你在外面吃个饭再回来了，没钱舅舅给你，你舅妈在发疯呢……”\\n\\n电话那头舅舅的话还没说完，又紧跟着传来舅妈尖锐的声音。\\n\\n“我发疯？你那贱种侄女今年26岁还在读书，不嫁人在我家吃我的用我的，还说我发疯？！现在公司遇到这么大的危机，我不管，你必须把她介绍给……”\\n\\n余清溪刚准备开口，电话匆忙地挂断了。\\n\\n她无声地叹了口气，看着自己刚发的奖学金，一份没动给舅舅转了过去。\\n\\n这样的情况，基本上每个星期都会出现。\\n\\n自从她妈妈去世后，她被舅舅接回家。因为舅妈不喜欢她，她只能在这个家小心翼翼地生活着，直到考上了文物修复学的研究生，她才将前些年欠舅舅的学费用奖学金还干净了。\\n\\n本想着，这个家无论如何她都得搬走了，苦于舅舅一直不同意，舅妈也因此一直跟他吵架。\\n\\n她唯一能想到能够正大光明搬走，舅舅不会担心的借口，就是结婚 ...\n",
      "['!', '\"', '#', '$', '%', '&', \"'\", '(', ')', '*', '+', ',', '-', '--', '.', '..', '...', '......', '...................', './', '.一', '.数', '.日', '/', '//', '0', '1', '2', '3', '4', '5', '6', '7', '8', '9', ':', '://', '::', ';', '<', '=', '>', '>>', '?', '@', 'A', 'Lex', '[', '\\\\', ']', '^', '_', '`', 'exp', 'sub', 'sup', '|', '}', '~', '~~~~', '·', '×', '×××', 'Δ', 'Ψ', 'γ', 'μ', 'φ', 'φ．', 'В', '—', '——', '———', '‘', '’', '’‘', '“', '”', '”，', '…', '……', '…………………………………………………③', '′∈', '′｜', '℃', 'Ⅲ', '↑', '→', '∈［', '∪φ∈', '≈', '①', '②', '②ｃ', '③', '③］', '④', '⑤', '⑥', '⑦', '⑧', '⑨', '⑩', '──', '■', '▲', '\\u3000', '、', '。', '〈', '〉', '《', '》', '》），', '」', '『', '』', '【', '】', '〔', '〕', '〕〔', '㈧', '一', '一.', '一一', '一下', '一个']\n"
     ]
    }
   ],
   "source": [
    "from src.util.read_file import read_file\n",
    "\n",
    "encoding = 'utf-8'\n",
    "train_novels = list[tuple]()\n",
    "\n",
    "for file_path in train_file_paths:\n",
    "    try:\n",
    "        train_novels.append((file_path, read_file(file_path, encoding)))\n",
    "    except Exception:\n",
    "        print('Decode Error ', file_path)\n",
    "\n",
    "with open('data/stopwords', encoding='utf-8') as _f:\n",
    "    stopwords = _f.readlines()\n",
    "    stopwords = [x.replace('\\n', '') for x in stopwords]\n",
    "    \n",
    "if len(train_novels) > 0:\n",
    "    print(str(train_novels[0])[:512], '...')\n",
    "print(stopwords[:128])"
   ],
   "metadata": {
    "collapsed": false,
    "ExecuteTime": {
     "end_time": "2025-04-12T08:05:10.707152Z",
     "start_time": "2025-04-12T08:05:10.672841Z"
    }
   },
   "id": "a592f9ce576b9e05",
   "execution_count": 2
  },
  {
   "cell_type": "code",
   "outputs": [],
   "source": [
    "from concurrent.futures import ThreadPoolExecutor\n",
    "from src.util.preprocess import split_words\n",
    "\n",
    "with ThreadPoolExecutor(max_workers=20) as executor:\n",
    "    train_seg_lists = list(executor.map(lambda _novel: (_novel[0], split_words(_novel[1], stopwords)), train_novels))\n",
    "    \n",
    "print(train_seg_lists[0])"
   ],
   "metadata": {
    "collapsed": false
   },
   "id": "c67927d7fcb353fe",
   "execution_count": null
  },
  {
   "cell_type": "code",
   "outputs": [],
   "source": [
    "train_documents = [x[1] for x in train_seg_lists]"
   ],
   "metadata": {
    "collapsed": false,
    "ExecuteTime": {
     "end_time": "2025-04-12T08:09:03.491232Z",
     "start_time": "2025-04-12T08:09:03.491232Z"
    }
   },
   "id": "f54bb7f9aaf98173",
   "execution_count": null
  },
  {
   "cell_type": "code",
   "outputs": [],
   "source": [
    "from gensim import corpora\n",
    "\n",
    "dictionary = corpora.Dictionary(train_documents)\n",
    "corpus = [dictionary.doc2bow(x) for x in train_documents]\n",
    "\n",
    "print(corpus[:16])"
   ],
   "metadata": {
    "collapsed": false,
    "ExecuteTime": {
     "start_time": "2025-04-12T08:09:03.492232Z"
    }
   },
   "id": "5d16dd74bef32c66",
   "execution_count": null
  },
  {
   "cell_type": "code",
   "outputs": [],
   "source": [
    "from gensim.models import LdaModel\n",
    "from gensim.models.coherencemodel import CoherenceModel\n",
    "import pyLDAvis.gensim_models as gensimvis\n",
    "import pyLDAvis\n",
    "\n",
    "num_topics = 5\n",
    "\n",
    "lda_model = LdaModel(\n",
    "    corpus=corpus,\n",
    "    id2word=dictionary,\n",
    "    num_topics=num_topics,\n",
    "    passes=64,\n",
    "    random_state=32\n",
    ")\n",
    "\n",
    "cm = CoherenceModel(model=lda_model, texts=train_documents, coherence='u_mass')\n",
    "coherence = cm.get_coherence()\n",
    "print(f\"Coherence={coherence}\")\n",
    "pyLDAvis.display(gensimvis.prepare(lda_model, corpus, dictionary))"
   ],
   "metadata": {
    "collapsed": false,
    "ExecuteTime": {
     "start_time": "2025-04-12T08:09:03.492232Z"
    }
   },
   "id": "83290f20ad9abf80",
   "execution_count": null
  },
  {
   "cell_type": "code",
   "outputs": [],
   "source": [
    "# save model\n",
    "lda_model.save('model/lda/lda_model')"
   ],
   "metadata": {
    "collapsed": false,
    "ExecuteTime": {
     "start_time": "2025-04-12T08:09:03.493232Z"
    }
   },
   "id": "da90c1c1688e19c6",
   "execution_count": null
  }
 ],
 "metadata": {
  "kernelspec": {
   "display_name": "Python 3",
   "language": "python",
   "name": "python3"
  },
  "language_info": {
   "codemirror_mode": {
    "name": "ipython",
    "version": 2
   },
   "file_extension": ".py",
   "mimetype": "text/x-python",
   "name": "python",
   "nbconvert_exporter": "python",
   "pygments_lexer": "ipython2",
   "version": "2.7.6"
  }
 },
 "nbformat": 4,
 "nbformat_minor": 5
}
