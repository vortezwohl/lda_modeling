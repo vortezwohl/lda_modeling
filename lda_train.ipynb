{
 "cells": [
  {
   "cell_type": "code",
   "execution_count": null,
   "id": "initial_id",
   "metadata": {
    "collapsed": true,
    "is_executing": true
   },
   "outputs": [],
   "source": [
    "import os\n",
    "train_data_path = 'data/train/2025-04-11'\n",
    "train_file_paths = list()\n",
    "skip_files = ['stopwords']\n",
    "\n",
    "for root, dirs, files in os.walk(train_data_path):\n",
    "    for file in files:\n",
    "        if file not in skip_files:\n",
    "            train_file_paths.append(f'{train_data_path}/{file}')\n",
    "\n",
    "print(train_file_paths)"
   ]
  },
  {
   "cell_type": "code",
   "outputs": [],
   "source": [
    "from src.util.read_file import read_file\n",
    "\n",
    "encoding = 'utf-8'\n",
    "train_novels = list[tuple]()\n",
    "\n",
    "for file_path in train_file_paths:\n",
    "    try:\n",
    "        train_novels.append((file_path, read_file(file_path, encoding)))\n",
    "    except Exception:\n",
    "        print('Decode Error ', file_path)\n",
    "\n",
    "with open('data/stopwords', encoding='utf-8') as _f:\n",
    "    stopwords = _f.readlines()\n",
    "\n",
    "print(str(train_novels[0])[:512], '...')\n",
    "print(stopwords[:128])"
   ],
   "metadata": {
    "collapsed": false,
    "is_executing": true
   },
   "id": "a592f9ce576b9e05",
   "execution_count": null
  },
  {
   "cell_type": "code",
   "outputs": [],
   "source": [
    "from src.util.preprocess import split_words\n",
    "\n",
    "train_seg_lists = list()\n",
    "\n",
    "for novel in train_novels:\n",
    "    train_seg_lists.append((novel[0], split_words(novel[1], stopwords)))\n",
    "    \n",
    "print(train_seg_lists[0])"
   ],
   "metadata": {
    "collapsed": false,
    "is_executing": true
   },
   "id": "c67927d7fcb353fe",
   "execution_count": null
  },
  {
   "cell_type": "code",
   "outputs": [],
   "source": [
    "train_documents = [x[1] for x in train_seg_lists]"
   ],
   "metadata": {
    "collapsed": false,
    "is_executing": true
   },
   "id": "f54bb7f9aaf98173",
   "execution_count": null
  },
  {
   "cell_type": "code",
   "outputs": [],
   "source": [
    "from gensim import corpora\n",
    "\n",
    "dictionary = corpora.Dictionary(train_documents)\n",
    "corpus = [dictionary.doc2bow(x) for x in train_documents]\n",
    "\n",
    "print(corpus[:16])"
   ],
   "metadata": {
    "collapsed": false,
    "is_executing": true
   },
   "id": "5d16dd74bef32c66",
   "execution_count": null
  },
  {
   "cell_type": "code",
   "outputs": [],
   "source": [
    "from gensim.models import LdaModel\n",
    "from gensim.models.coherencemodel import CoherenceModel\n",
    "import pyLDAvis.gensim_models as gensimvis\n",
    "import pyLDAvis\n",
    "\n",
    "num_topics = 10\n",
    "\n",
    "lda_model = LdaModel(\n",
    "    corpus=corpus,\n",
    "    id2word=dictionary,\n",
    "    num_topics=num_topics,\n",
    "    passes=64,\n",
    "    random_state=32\n",
    ")\n",
    "\n",
    "\n",
    "cm = CoherenceModel(model=lda_model, texts=train_documents, coherence='u_mass')\n",
    "coherence = cm.get_coherence()\n",
    "print(f\"Coherence={coherence}\")"
   ],
   "metadata": {
    "collapsed": false,
    "is_executing": true
   },
   "id": "83290f20ad9abf80",
   "execution_count": null
  },
  {
   "cell_type": "code",
   "outputs": [],
   "source": [
    "pyLDAvis.display(gensimvis.prepare(lda_model, corpus, dictionary))"
   ],
   "metadata": {
    "collapsed": false,
    "is_executing": true
   },
   "id": "33fd0340a7792f22",
   "execution_count": null
  },
  {
   "cell_type": "code",
   "outputs": [],
   "source": [
    "# save model\n",
    "lda_model.save('model/lda/lda_model.pkl')"
   ],
   "metadata": {
    "collapsed": false,
    "is_executing": true
   },
   "id": "da90c1c1688e19c6",
   "execution_count": null
  }
 ],
 "metadata": {
  "kernelspec": {
   "display_name": "Python 3",
   "language": "python",
   "name": "python3"
  },
  "language_info": {
   "codemirror_mode": {
    "name": "ipython",
    "version": 2
   },
   "file_extension": ".py",
   "mimetype": "text/x-python",
   "name": "python",
   "nbconvert_exporter": "python",
   "pygments_lexer": "ipython2",
   "version": "2.7.6"
  }
 },
 "nbformat": 4,
 "nbformat_minor": 5
}
